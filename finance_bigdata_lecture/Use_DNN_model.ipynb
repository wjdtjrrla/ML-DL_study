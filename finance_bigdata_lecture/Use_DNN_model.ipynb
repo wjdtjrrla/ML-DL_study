{
 "cells": [
  {
   "cell_type": "code",
   "execution_count": null,
   "id": "0e473773",
   "metadata": {},
   "outputs": [],
   "source": [
    "import numpy as np\n",
    "import tensorflow as tf\n",
    "from tensorflow.keras.models import load_model\n",
    "from sklearn.preprocessing import StandardScaler\n",
    "import pandas as pd"
   ]
  },
  {
   "cell_type": "code",
   "execution_count": null,
   "id": "6d7bc204",
   "metadata": {},
   "outputs": [
    {
     "name": "stderr",
     "output_type": "stream",
     "text": [
      "WARNING:absl:Compiled the loaded model, but the compiled metrics have yet to be built. `model.compile_metrics` will be empty until you train or evaluate the model.\n"
     ]
    },
    {
     "name": "stdout",
     "output_type": "stream",
     "text": [
      "\u001b[1m1/1\u001b[0m \u001b[32m━━━━━━━━━━━━━━━━━━━━\u001b[0m\u001b[37m\u001b[0m \u001b[1m0s\u001b[0m 38ms/step\n",
      "구매 확률: 0.0000\n",
      "예측: 구매하지 않을 것으로 예측됩니다.\n"
     ]
    }
   ],
   "source": [
    "model = load_model(\"구매예측_DNN.h5\")\n",
    "# 원본 데이터 다시 불러오기\n",
    "data = pd.read_csv('data/Social_Network_Ads.csv')\n",
    "\n",
    "# 특성과 타겟 다시 추출\n",
    "X = data[['Age', 'EstimatedSalary']].values\n",
    "\n",
    "# 예측하고 싶은 값 (22살, 연봉 30000)\n",
    "input_data = np.array([[22, 30000]])\n",
    "\n",
    "# 스케일러\n",
    "scaler = StandardScaler()\n",
    "scaler.fit(X)\n",
    "\n",
    "# 스케일링 적용\n",
    "input_scaled = scaler.transform(input_data)\n",
    "# 예측\n",
    "prediction = model.predict(input_scaled)\n",
    "\n",
    "# 확률 출력\n",
    "print(f\"구매 확률: {prediction[0][0]:.4f}\")\n",
    "\n",
    "# 0.5 기준으로 이진 분류도 가능\n",
    "if prediction[0][0] >= 0.5:\n",
    "    print(\"예측: 구매할 것으로 예측됩니다.\")\n",
    "else:\n",
    "    print(\"예측: 구매하지 않을 것으로 예측됩니다.\")"
   ]
  }
 ],
 "metadata": {
  "kernelspec": {
   "display_name": ".venv",
   "language": "python",
   "name": "python3"
  },
  "language_info": {
   "codemirror_mode": {
    "name": "ipython",
    "version": 3
   },
   "file_extension": ".py",
   "mimetype": "text/x-python",
   "name": "python",
   "nbconvert_exporter": "python",
   "pygments_lexer": "ipython3",
   "version": "3.12.10"
  }
 },
 "nbformat": 4,
 "nbformat_minor": 5
}
